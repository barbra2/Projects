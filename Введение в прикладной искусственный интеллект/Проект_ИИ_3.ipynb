{
  "cells": [
    {
      "cell_type": "markdown",
      "id": "bc9520d2",
      "metadata": {
        "id": "bc9520d2"
      },
      "source": [
        "# Проект №3\n",
        "\n",
        "Задача:  \n",
        "- Обучить различные модели глубокого обучения на имеющихся данных  \n",
        "\n",
        "\n",
        "Исходные данные: Kaggle New York Housing Market"
      ]
    },
    {
      "cell_type": "markdown",
      "id": "28b51062",
      "metadata": {
        "id": "28b51062"
      },
      "source": [
        "## 1. Пример импорта данных. Грузим данные"
      ]
    },
    {
      "cell_type": "code",
      "execution_count": null,
      "id": "406597a7",
      "metadata": {
        "colab": {
          "base_uri": "https://localhost:8080/",
          "height": 877
        },
        "id": "406597a7",
        "outputId": "a0f07d49-d431-4e17-b55c-d71e931cadea"
      },
      "outputs": [
        {
          "data": {
            "application/vnd.google.colaboratory.intrinsic+json": {
              "summary": "{\n  \"name\": \"data\",\n  \"rows\": 4799,\n  \"fields\": [\n    {\n      \"column\": \"BROKERTITLE\",\n      \"properties\": {\n        \"dtype\": \"category\",\n        \"num_unique_values\": 1035,\n        \"samples\": [\n          \"Brokered by Project Queens LLC\",\n          \"Brokered by EXIT REALTY GROUP\",\n          \"Brokered by Douglas Elliman - Central Nassau\"\n        ],\n        \"semantic_type\": \"\",\n        \"description\": \"\"\n      }\n    },\n    {\n      \"column\": \"TYPE\",\n      \"properties\": {\n        \"dtype\": \"category\",\n        \"num_unique_values\": 13,\n        \"samples\": [\n          \"Mobile house for sale\",\n          \"Pending\",\n          \"Condo for sale\"\n        ],\n        \"semantic_type\": \"\",\n        \"description\": \"\"\n      }\n    },\n    {\n      \"column\": \"PRICE\",\n      \"properties\": {\n        \"dtype\": \"number\",\n        \"std\": 4065642,\n        \"min\": 2494,\n        \"max\": 65000000,\n        \"num_unique_values\": 1272,\n        \"samples\": [\n          6500000,\n          4595000,\n          919000\n        ],\n        \"semantic_type\": \"\",\n        \"description\": \"\"\n      }\n    },\n    {\n      \"column\": \"BEDS\",\n      \"properties\": {\n        \"dtype\": \"number\",\n        \"std\": 2,\n        \"min\": 1,\n        \"max\": 50,\n        \"num_unique_values\": 27,\n        \"samples\": [\n          12,\n          14,\n          10\n        ],\n        \"semantic_type\": \"\",\n        \"description\": \"\"\n      }\n    },\n    {\n      \"column\": \"BATH\",\n      \"properties\": {\n        \"dtype\": \"number\",\n        \"std\": 1.9435463459785114,\n        \"min\": 0.0,\n        \"max\": 50.0,\n        \"num_unique_values\": 22,\n        \"samples\": [\n          2.0,\n          13.0,\n          5.0\n        ],\n        \"semantic_type\": \"\",\n        \"description\": \"\"\n      }\n    },\n    {\n      \"column\": \"PROPERTYSQFT\",\n      \"properties\": {\n        \"dtype\": \"number\",\n        \"std\": 2364.5764395554042,\n        \"min\": 230.0,\n        \"max\": 65535.0,\n        \"num_unique_values\": 1444,\n        \"samples\": [\n          1711.0,\n          6300.0,\n          1079.0\n        ],\n        \"semantic_type\": \"\",\n        \"description\": \"\"\n      }\n    },\n    {\n      \"column\": \"ADDRESS\",\n      \"properties\": {\n        \"dtype\": \"string\",\n        \"num_unique_values\": 4581,\n        \"samples\": [\n          \"1217 Doone Ct\",\n          \"2750 Johnson Ave Apt 5C\",\n          \"2 W End Ave Unit L4\"\n        ],\n        \"semantic_type\": \"\",\n        \"description\": \"\"\n      }\n    },\n    {\n      \"column\": \"STATE\",\n      \"properties\": {\n        \"dtype\": \"category\",\n        \"num_unique_values\": 307,\n        \"samples\": [\n          \"New York, NY 10005\",\n          \"Brooklyn, NY 11234\",\n          \"New York, NY 10028\"\n        ],\n        \"semantic_type\": \"\",\n        \"description\": \"\"\n      }\n    },\n    {\n      \"column\": \"MAIN_ADDRESS\",\n      \"properties\": {\n        \"dtype\": \"string\",\n        \"num_unique_values\": 4581,\n        \"samples\": [\n          \"1217 Doone CtBrooklyn, NY 11235\",\n          \"2750 Johnson Ave Apt 5CBronx, NY 10463\",\n          \"2 W End Ave Unit L4Brooklyn, NY 11235\"\n        ],\n        \"semantic_type\": \"\",\n        \"description\": \"\"\n      }\n    },\n    {\n      \"column\": \"ADMINISTRATIVE_AREA_LEVEL_2\",\n      \"properties\": {\n        \"dtype\": \"category\",\n        \"num_unique_values\": 29,\n        \"samples\": [\n          \"11237\",\n          \"Queens County\",\n          \"11417\"\n        ],\n        \"semantic_type\": \"\",\n        \"description\": \"\"\n      }\n    },\n    {\n      \"column\": \"LOCALITY\",\n      \"properties\": {\n        \"dtype\": \"category\",\n        \"num_unique_values\": 11,\n        \"samples\": [\n          \"Queens County\",\n          \"New York\",\n          \"Queens\"\n        ],\n        \"semantic_type\": \"\",\n        \"description\": \"\"\n      }\n    },\n    {\n      \"column\": \"SUBLOCALITY\",\n      \"properties\": {\n        \"dtype\": \"category\",\n        \"num_unique_values\": 21,\n        \"samples\": [\n          \"Manhattan\",\n          \"Fort Hamilton\",\n          \"Riverdale\"\n        ],\n        \"semantic_type\": \"\",\n        \"description\": \"\"\n      }\n    },\n    {\n      \"column\": \"STREET_NAME\",\n      \"properties\": {\n        \"dtype\": \"category\",\n        \"num_unique_values\": 174,\n        \"samples\": [\n          \"John Street\",\n          \"Shore Road\",\n          \"Mill Basin\"\n        ],\n        \"semantic_type\": \"\",\n        \"description\": \"\"\n      }\n    },\n    {\n      \"column\": \"LONG_NAME\",\n      \"properties\": {\n        \"dtype\": \"string\",\n        \"num_unique_values\": 2730,\n        \"samples\": [\n          \"205th Place\",\n          \"342\",\n          \"1050\"\n        ],\n        \"semantic_type\": \"\",\n        \"description\": \"\"\n      }\n    },\n    {\n      \"column\": \"FORMATTED_ADDRESS\",\n      \"properties\": {\n        \"dtype\": \"string\",\n        \"num_unique_values\": 4549,\n        \"samples\": [\n          \"132-11 Centerville St, Ozone Park, NY 11417, USA\",\n          \"13-56 Bell Blvd #2, Bayside, NY 11360, USA\",\n          \"280 Loretto St, Staten Island, NY 10307, USA\"\n        ],\n        \"semantic_type\": \"\",\n        \"description\": \"\"\n      }\n    },\n    {\n      \"column\": \"LATITUDE\",\n      \"properties\": {\n        \"dtype\": \"number\",\n        \"std\": 0.0876450543671511,\n        \"min\": 40.4995462,\n        \"max\": 40.9127295,\n        \"num_unique_values\": 4196,\n        \"samples\": [\n          40.6241766,\n          40.6781645,\n          40.6999899\n        ],\n        \"semantic_type\": \"\",\n        \"description\": \"\"\n      }\n    },\n    {\n      \"column\": \"LONGITUDE\",\n      \"properties\": {\n        \"dtype\": \"number\",\n        \"std\": 0.10101944715668565,\n        \"min\": -74.2530332,\n        \"max\": -73.70245,\n        \"num_unique_values\": 4118,\n        \"samples\": [\n          -73.8696876,\n          -74.1553517,\n          -73.9587153\n        ],\n        \"semantic_type\": \"\",\n        \"description\": \"\"\n      }\n    }\n  ]\n}",
              "type": "dataframe",
              "variable_name": "data"
            },
            "text/html": [
              "\n",
              "  <div id=\"df-9c25f552-7b58-420f-9821-6ad51a5806db\" class=\"colab-df-container\">\n",
              "    <div>\n",
              "<style scoped>\n",
              "    .dataframe tbody tr th:only-of-type {\n",
              "        vertical-align: middle;\n",
              "    }\n",
              "\n",
              "    .dataframe tbody tr th {\n",
              "        vertical-align: top;\n",
              "    }\n",
              "\n",
              "    .dataframe thead th {\n",
              "        text-align: right;\n",
              "    }\n",
              "</style>\n",
              "<table border=\"1\" class=\"dataframe\">\n",
              "  <thead>\n",
              "    <tr style=\"text-align: right;\">\n",
              "      <th></th>\n",
              "      <th>BROKERTITLE</th>\n",
              "      <th>TYPE</th>\n",
              "      <th>PRICE</th>\n",
              "      <th>BEDS</th>\n",
              "      <th>BATH</th>\n",
              "      <th>PROPERTYSQFT</th>\n",
              "      <th>ADDRESS</th>\n",
              "      <th>STATE</th>\n",
              "      <th>MAIN_ADDRESS</th>\n",
              "      <th>ADMINISTRATIVE_AREA_LEVEL_2</th>\n",
              "      <th>LOCALITY</th>\n",
              "      <th>SUBLOCALITY</th>\n",
              "      <th>STREET_NAME</th>\n",
              "      <th>LONG_NAME</th>\n",
              "      <th>FORMATTED_ADDRESS</th>\n",
              "      <th>LATITUDE</th>\n",
              "      <th>LONGITUDE</th>\n",
              "    </tr>\n",
              "  </thead>\n",
              "  <tbody>\n",
              "    <tr>\n",
              "      <th>0</th>\n",
              "      <td>Brokered by Douglas Elliman  -111 Fifth Ave</td>\n",
              "      <td>Condo for sale</td>\n",
              "      <td>315000</td>\n",
              "      <td>2</td>\n",
              "      <td>2.000000</td>\n",
              "      <td>1400.000000</td>\n",
              "      <td>2 E 55th St Unit 803</td>\n",
              "      <td>New York, NY 10022</td>\n",
              "      <td>2 E 55th St Unit 803New York, NY 10022</td>\n",
              "      <td>New York County</td>\n",
              "      <td>New York</td>\n",
              "      <td>Manhattan</td>\n",
              "      <td>East 55th Street</td>\n",
              "      <td>Regis Residence</td>\n",
              "      <td>Regis Residence, 2 E 55th St #803, New York, N...</td>\n",
              "      <td>40.761255</td>\n",
              "      <td>-73.974483</td>\n",
              "    </tr>\n",
              "    <tr>\n",
              "      <th>1</th>\n",
              "      <td>Brokered by Sowae Corp</td>\n",
              "      <td>House for sale</td>\n",
              "      <td>260000</td>\n",
              "      <td>4</td>\n",
              "      <td>2.000000</td>\n",
              "      <td>2015.000000</td>\n",
              "      <td>620 Sinclair Ave</td>\n",
              "      <td>Staten Island, NY 10312</td>\n",
              "      <td>620 Sinclair AveStaten Island, NY 10312</td>\n",
              "      <td>United States</td>\n",
              "      <td>New York</td>\n",
              "      <td>Richmond County</td>\n",
              "      <td>Staten Island</td>\n",
              "      <td>Sinclair Avenue</td>\n",
              "      <td>620 Sinclair Ave, Staten Island, NY 10312, USA</td>\n",
              "      <td>40.541805</td>\n",
              "      <td>-74.196109</td>\n",
              "    </tr>\n",
              "    <tr>\n",
              "      <th>2</th>\n",
              "      <td>Brokered by COMPASS</td>\n",
              "      <td>Condo for sale</td>\n",
              "      <td>69000</td>\n",
              "      <td>3</td>\n",
              "      <td>1.000000</td>\n",
              "      <td>445.000000</td>\n",
              "      <td>2 E 55th St Unit 908W33</td>\n",
              "      <td>Manhattan, NY 10022</td>\n",
              "      <td>2 E 55th St Unit 908W33Manhattan, NY 10022</td>\n",
              "      <td>United States</td>\n",
              "      <td>New York</td>\n",
              "      <td>New York County</td>\n",
              "      <td>New York</td>\n",
              "      <td>East 55th Street</td>\n",
              "      <td>2 E 55th St, New York, NY 10022, USA</td>\n",
              "      <td>40.761398</td>\n",
              "      <td>-73.974613</td>\n",
              "    </tr>\n",
              "    <tr>\n",
              "      <th>3</th>\n",
              "      <td>Brokered by Sotheby's International Realty - E...</td>\n",
              "      <td>Townhouse for sale</td>\n",
              "      <td>55000000</td>\n",
              "      <td>7</td>\n",
              "      <td>2.373861</td>\n",
              "      <td>14175.000000</td>\n",
              "      <td>5 E 64th St</td>\n",
              "      <td>New York, NY 10065</td>\n",
              "      <td>5 E 64th StNew York, NY 10065</td>\n",
              "      <td>United States</td>\n",
              "      <td>New York</td>\n",
              "      <td>New York County</td>\n",
              "      <td>New York</td>\n",
              "      <td>East 64th Street</td>\n",
              "      <td>5 E 64th St, New York, NY 10065, USA</td>\n",
              "      <td>40.767224</td>\n",
              "      <td>-73.969856</td>\n",
              "    </tr>\n",
              "    <tr>\n",
              "      <th>4</th>\n",
              "      <td>Brokered by Sowae Corp</td>\n",
              "      <td>House for sale</td>\n",
              "      <td>690000</td>\n",
              "      <td>5</td>\n",
              "      <td>2.000000</td>\n",
              "      <td>4004.000000</td>\n",
              "      <td>584 Park Pl</td>\n",
              "      <td>Brooklyn, NY 11238</td>\n",
              "      <td>584 Park PlBrooklyn, NY 11238</td>\n",
              "      <td>United States</td>\n",
              "      <td>New York</td>\n",
              "      <td>Kings County</td>\n",
              "      <td>Brooklyn</td>\n",
              "      <td>Park Place</td>\n",
              "      <td>584 Park Pl, Brooklyn, NY 11238, USA</td>\n",
              "      <td>40.674363</td>\n",
              "      <td>-73.958725</td>\n",
              "    </tr>\n",
              "    <tr>\n",
              "      <th>...</th>\n",
              "      <td>...</td>\n",
              "      <td>...</td>\n",
              "      <td>...</td>\n",
              "      <td>...</td>\n",
              "      <td>...</td>\n",
              "      <td>...</td>\n",
              "      <td>...</td>\n",
              "      <td>...</td>\n",
              "      <td>...</td>\n",
              "      <td>...</td>\n",
              "      <td>...</td>\n",
              "      <td>...</td>\n",
              "      <td>...</td>\n",
              "      <td>...</td>\n",
              "      <td>...</td>\n",
              "      <td>...</td>\n",
              "      <td>...</td>\n",
              "    </tr>\n",
              "    <tr>\n",
              "      <th>4794</th>\n",
              "      <td>Brokered by COMPASS</td>\n",
              "      <td>Co-op for sale</td>\n",
              "      <td>599000</td>\n",
              "      <td>1</td>\n",
              "      <td>1.000000</td>\n",
              "      <td>2184.207862</td>\n",
              "      <td>222 E 80th St Apt 3A</td>\n",
              "      <td>Manhattan, NY 10075</td>\n",
              "      <td>222 E 80th St Apt 3AManhattan, NY 10075</td>\n",
              "      <td>New York</td>\n",
              "      <td>New York County</td>\n",
              "      <td>New York</td>\n",
              "      <td>Manhattan</td>\n",
              "      <td>222</td>\n",
              "      <td>222 E 80th St #3a, New York, NY 10075, USA</td>\n",
              "      <td>40.774350</td>\n",
              "      <td>-73.955879</td>\n",
              "    </tr>\n",
              "    <tr>\n",
              "      <th>4795</th>\n",
              "      <td>Brokered by Mjr Real Estate Llc</td>\n",
              "      <td>Co-op for sale</td>\n",
              "      <td>245000</td>\n",
              "      <td>1</td>\n",
              "      <td>1.000000</td>\n",
              "      <td>2184.207862</td>\n",
              "      <td>97-40 62 Dr Unit Lg</td>\n",
              "      <td>Rego Park, NY 11374</td>\n",
              "      <td>97-40 62 Dr Unit LgRego Park, NY 11374</td>\n",
              "      <td>United States</td>\n",
              "      <td>New York</td>\n",
              "      <td>Queens County</td>\n",
              "      <td>Queens</td>\n",
              "      <td>62nd Drive</td>\n",
              "      <td>97-40 62nd Dr, Rego Park, NY 11374, USA</td>\n",
              "      <td>40.732538</td>\n",
              "      <td>-73.860152</td>\n",
              "    </tr>\n",
              "    <tr>\n",
              "      <th>4796</th>\n",
              "      <td>Brokered by Douglas Elliman - 575 Madison Ave</td>\n",
              "      <td>Co-op for sale</td>\n",
              "      <td>1275000</td>\n",
              "      <td>1</td>\n",
              "      <td>1.000000</td>\n",
              "      <td>2184.207862</td>\n",
              "      <td>427 W 21st St Unit Garden</td>\n",
              "      <td>New York, NY 10011</td>\n",
              "      <td>427 W 21st St Unit GardenNew York, NY 10011</td>\n",
              "      <td>United States</td>\n",
              "      <td>New York</td>\n",
              "      <td>New York County</td>\n",
              "      <td>New York</td>\n",
              "      <td>West 21st Street</td>\n",
              "      <td>427 W 21st St, New York, NY 10011, USA</td>\n",
              "      <td>40.745882</td>\n",
              "      <td>-74.003398</td>\n",
              "    </tr>\n",
              "    <tr>\n",
              "      <th>4797</th>\n",
              "      <td>Brokered by E Realty International Corp</td>\n",
              "      <td>Condo for sale</td>\n",
              "      <td>598125</td>\n",
              "      <td>2</td>\n",
              "      <td>1.000000</td>\n",
              "      <td>655.000000</td>\n",
              "      <td>91-23 Corona Ave Unit 4G</td>\n",
              "      <td>Elmhurst, NY 11373</td>\n",
              "      <td>91-23 Corona Ave Unit 4GElmhurst, NY 11373</td>\n",
              "      <td>New York</td>\n",
              "      <td>Queens County</td>\n",
              "      <td>Queens</td>\n",
              "      <td>Flushing</td>\n",
              "      <td>91-23</td>\n",
              "      <td>91-23 Corona Ave. #4b, Flushing, NY 11373, USA</td>\n",
              "      <td>40.742770</td>\n",
              "      <td>-73.872752</td>\n",
              "    </tr>\n",
              "    <tr>\n",
              "      <th>4798</th>\n",
              "      <td>Brokered by Nyc Realty Brokers Llc</td>\n",
              "      <td>Co-op for sale</td>\n",
              "      <td>349000</td>\n",
              "      <td>1</td>\n",
              "      <td>1.000000</td>\n",
              "      <td>750.000000</td>\n",
              "      <td>460 Neptune Ave Apt 14O</td>\n",
              "      <td>Brooklyn, NY 11224</td>\n",
              "      <td>460 Neptune Ave Apt 14OBrooklyn, NY 11224</td>\n",
              "      <td>New York</td>\n",
              "      <td>Kings County</td>\n",
              "      <td>Brooklyn</td>\n",
              "      <td>Coney Island</td>\n",
              "      <td>460</td>\n",
              "      <td>460 Neptune Ave #14a, Brooklyn, NY 11224, USA</td>\n",
              "      <td>40.579147</td>\n",
              "      <td>-73.970949</td>\n",
              "    </tr>\n",
              "  </tbody>\n",
              "</table>\n",
              "<p>4799 rows × 17 columns</p>\n",
              "</div>\n",
              "    <div class=\"colab-df-buttons\">\n",
              "\n",
              "  <div class=\"colab-df-container\">\n",
              "    <button class=\"colab-df-convert\" onclick=\"convertToInteractive('df-9c25f552-7b58-420f-9821-6ad51a5806db')\"\n",
              "            title=\"Convert this dataframe to an interactive table.\"\n",
              "            style=\"display:none;\">\n",
              "\n",
              "  <svg xmlns=\"http://www.w3.org/2000/svg\" height=\"24px\" viewBox=\"0 -960 960 960\">\n",
              "    <path d=\"M120-120v-720h720v720H120Zm60-500h600v-160H180v160Zm220 220h160v-160H400v160Zm0 220h160v-160H400v160ZM180-400h160v-160H180v160Zm440 0h160v-160H620v160ZM180-180h160v-160H180v160Zm440 0h160v-160H620v160Z\"/>\n",
              "  </svg>\n",
              "    </button>\n",
              "\n",
              "  <style>\n",
              "    .colab-df-container {\n",
              "      display:flex;\n",
              "      gap: 12px;\n",
              "    }\n",
              "\n",
              "    .colab-df-convert {\n",
              "      background-color: #E8F0FE;\n",
              "      border: none;\n",
              "      border-radius: 50%;\n",
              "      cursor: pointer;\n",
              "      display: none;\n",
              "      fill: #1967D2;\n",
              "      height: 32px;\n",
              "      padding: 0 0 0 0;\n",
              "      width: 32px;\n",
              "    }\n",
              "\n",
              "    .colab-df-convert:hover {\n",
              "      background-color: #E2EBFA;\n",
              "      box-shadow: 0px 1px 2px rgba(60, 64, 67, 0.3), 0px 1px 3px 1px rgba(60, 64, 67, 0.15);\n",
              "      fill: #174EA6;\n",
              "    }\n",
              "\n",
              "    .colab-df-buttons div {\n",
              "      margin-bottom: 4px;\n",
              "    }\n",
              "\n",
              "    [theme=dark] .colab-df-convert {\n",
              "      background-color: #3B4455;\n",
              "      fill: #D2E3FC;\n",
              "    }\n",
              "\n",
              "    [theme=dark] .colab-df-convert:hover {\n",
              "      background-color: #434B5C;\n",
              "      box-shadow: 0px 1px 3px 1px rgba(0, 0, 0, 0.15);\n",
              "      filter: drop-shadow(0px 1px 2px rgba(0, 0, 0, 0.3));\n",
              "      fill: #FFFFFF;\n",
              "    }\n",
              "  </style>\n",
              "\n",
              "    <script>\n",
              "      const buttonEl =\n",
              "        document.querySelector('#df-9c25f552-7b58-420f-9821-6ad51a5806db button.colab-df-convert');\n",
              "      buttonEl.style.display =\n",
              "        google.colab.kernel.accessAllowed ? 'block' : 'none';\n",
              "\n",
              "      async function convertToInteractive(key) {\n",
              "        const element = document.querySelector('#df-9c25f552-7b58-420f-9821-6ad51a5806db');\n",
              "        const dataTable =\n",
              "          await google.colab.kernel.invokeFunction('convertToInteractive',\n",
              "                                                    [key], {});\n",
              "        if (!dataTable) return;\n",
              "\n",
              "        const docLinkHtml = 'Like what you see? Visit the ' +\n",
              "          '<a target=\"_blank\" href=https://colab.research.google.com/notebooks/data_table.ipynb>data table notebook</a>'\n",
              "          + ' to learn more about interactive tables.';\n",
              "        element.innerHTML = '';\n",
              "        dataTable['output_type'] = 'display_data';\n",
              "        await google.colab.output.renderOutput(dataTable, element);\n",
              "        const docLink = document.createElement('div');\n",
              "        docLink.innerHTML = docLinkHtml;\n",
              "        element.appendChild(docLink);\n",
              "      }\n",
              "    </script>\n",
              "  </div>\n",
              "\n",
              "\n",
              "<div id=\"df-afe5578b-fbbb-49a8-9b4a-9fcd98ddf60d\">\n",
              "  <button class=\"colab-df-quickchart\" onclick=\"quickchart('df-afe5578b-fbbb-49a8-9b4a-9fcd98ddf60d')\"\n",
              "            title=\"Suggest charts\"\n",
              "            style=\"display:none;\">\n",
              "\n",
              "<svg xmlns=\"http://www.w3.org/2000/svg\" height=\"24px\"viewBox=\"0 0 24 24\"\n",
              "     width=\"24px\">\n",
              "    <g>\n",
              "        <path d=\"M19 3H5c-1.1 0-2 .9-2 2v14c0 1.1.9 2 2 2h14c1.1 0 2-.9 2-2V5c0-1.1-.9-2-2-2zM9 17H7v-7h2v7zm4 0h-2V7h2v10zm4 0h-2v-4h2v4z\"/>\n",
              "    </g>\n",
              "</svg>\n",
              "  </button>\n",
              "\n",
              "<style>\n",
              "  .colab-df-quickchart {\n",
              "      --bg-color: #E8F0FE;\n",
              "      --fill-color: #1967D2;\n",
              "      --hover-bg-color: #E2EBFA;\n",
              "      --hover-fill-color: #174EA6;\n",
              "      --disabled-fill-color: #AAA;\n",
              "      --disabled-bg-color: #DDD;\n",
              "  }\n",
              "\n",
              "  [theme=dark] .colab-df-quickchart {\n",
              "      --bg-color: #3B4455;\n",
              "      --fill-color: #D2E3FC;\n",
              "      --hover-bg-color: #434B5C;\n",
              "      --hover-fill-color: #FFFFFF;\n",
              "      --disabled-bg-color: #3B4455;\n",
              "      --disabled-fill-color: #666;\n",
              "  }\n",
              "\n",
              "  .colab-df-quickchart {\n",
              "    background-color: var(--bg-color);\n",
              "    border: none;\n",
              "    border-radius: 50%;\n",
              "    cursor: pointer;\n",
              "    display: none;\n",
              "    fill: var(--fill-color);\n",
              "    height: 32px;\n",
              "    padding: 0;\n",
              "    width: 32px;\n",
              "  }\n",
              "\n",
              "  .colab-df-quickchart:hover {\n",
              "    background-color: var(--hover-bg-color);\n",
              "    box-shadow: 0 1px 2px rgba(60, 64, 67, 0.3), 0 1px 3px 1px rgba(60, 64, 67, 0.15);\n",
              "    fill: var(--button-hover-fill-color);\n",
              "  }\n",
              "\n",
              "  .colab-df-quickchart-complete:disabled,\n",
              "  .colab-df-quickchart-complete:disabled:hover {\n",
              "    background-color: var(--disabled-bg-color);\n",
              "    fill: var(--disabled-fill-color);\n",
              "    box-shadow: none;\n",
              "  }\n",
              "\n",
              "  .colab-df-spinner {\n",
              "    border: 2px solid var(--fill-color);\n",
              "    border-color: transparent;\n",
              "    border-bottom-color: var(--fill-color);\n",
              "    animation:\n",
              "      spin 1s steps(1) infinite;\n",
              "  }\n",
              "\n",
              "  @keyframes spin {\n",
              "    0% {\n",
              "      border-color: transparent;\n",
              "      border-bottom-color: var(--fill-color);\n",
              "      border-left-color: var(--fill-color);\n",
              "    }\n",
              "    20% {\n",
              "      border-color: transparent;\n",
              "      border-left-color: var(--fill-color);\n",
              "      border-top-color: var(--fill-color);\n",
              "    }\n",
              "    30% {\n",
              "      border-color: transparent;\n",
              "      border-left-color: var(--fill-color);\n",
              "      border-top-color: var(--fill-color);\n",
              "      border-right-color: var(--fill-color);\n",
              "    }\n",
              "    40% {\n",
              "      border-color: transparent;\n",
              "      border-right-color: var(--fill-color);\n",
              "      border-top-color: var(--fill-color);\n",
              "    }\n",
              "    60% {\n",
              "      border-color: transparent;\n",
              "      border-right-color: var(--fill-color);\n",
              "    }\n",
              "    80% {\n",
              "      border-color: transparent;\n",
              "      border-right-color: var(--fill-color);\n",
              "      border-bottom-color: var(--fill-color);\n",
              "    }\n",
              "    90% {\n",
              "      border-color: transparent;\n",
              "      border-bottom-color: var(--fill-color);\n",
              "    }\n",
              "  }\n",
              "</style>\n",
              "\n",
              "  <script>\n",
              "    async function quickchart(key) {\n",
              "      const quickchartButtonEl =\n",
              "        document.querySelector('#' + key + ' button');\n",
              "      quickchartButtonEl.disabled = true;  // To prevent multiple clicks.\n",
              "      quickchartButtonEl.classList.add('colab-df-spinner');\n",
              "      try {\n",
              "        const charts = await google.colab.kernel.invokeFunction(\n",
              "            'suggestCharts', [key], {});\n",
              "      } catch (error) {\n",
              "        console.error('Error during call to suggestCharts:', error);\n",
              "      }\n",
              "      quickchartButtonEl.classList.remove('colab-df-spinner');\n",
              "      quickchartButtonEl.classList.add('colab-df-quickchart-complete');\n",
              "    }\n",
              "    (() => {\n",
              "      let quickchartButtonEl =\n",
              "        document.querySelector('#df-afe5578b-fbbb-49a8-9b4a-9fcd98ddf60d button');\n",
              "      quickchartButtonEl.style.display =\n",
              "        google.colab.kernel.accessAllowed ? 'block' : 'none';\n",
              "    })();\n",
              "  </script>\n",
              "</div>\n",
              "    </div>\n",
              "  </div>\n"
            ],
            "text/plain": [
              "                                            BROKERTITLE                TYPE  \\\n",
              "0           Brokered by Douglas Elliman  -111 Fifth Ave      Condo for sale   \n",
              "1                                Brokered by Sowae Corp      House for sale   \n",
              "2                                   Brokered by COMPASS      Condo for sale   \n",
              "3     Brokered by Sotheby's International Realty - E...  Townhouse for sale   \n",
              "4                                Brokered by Sowae Corp      House for sale   \n",
              "...                                                 ...                 ...   \n",
              "4794                                Brokered by COMPASS      Co-op for sale   \n",
              "4795                    Brokered by Mjr Real Estate Llc      Co-op for sale   \n",
              "4796      Brokered by Douglas Elliman - 575 Madison Ave      Co-op for sale   \n",
              "4797            Brokered by E Realty International Corp      Condo for sale   \n",
              "4798                 Brokered by Nyc Realty Brokers Llc      Co-op for sale   \n",
              "\n",
              "         PRICE  BEDS      BATH  PROPERTYSQFT                    ADDRESS  \\\n",
              "0       315000     2  2.000000   1400.000000       2 E 55th St Unit 803   \n",
              "1       260000     4  2.000000   2015.000000           620 Sinclair Ave   \n",
              "2        69000     3  1.000000    445.000000    2 E 55th St Unit 908W33   \n",
              "3     55000000     7  2.373861  14175.000000                5 E 64th St   \n",
              "4       690000     5  2.000000   4004.000000                584 Park Pl   \n",
              "...        ...   ...       ...           ...                        ...   \n",
              "4794    599000     1  1.000000   2184.207862       222 E 80th St Apt 3A   \n",
              "4795    245000     1  1.000000   2184.207862        97-40 62 Dr Unit Lg   \n",
              "4796   1275000     1  1.000000   2184.207862  427 W 21st St Unit Garden   \n",
              "4797    598125     2  1.000000    655.000000   91-23 Corona Ave Unit 4G   \n",
              "4798    349000     1  1.000000    750.000000    460 Neptune Ave Apt 14O   \n",
              "\n",
              "                        STATE                                 MAIN_ADDRESS  \\\n",
              "0          New York, NY 10022       2 E 55th St Unit 803New York, NY 10022   \n",
              "1     Staten Island, NY 10312      620 Sinclair AveStaten Island, NY 10312   \n",
              "2         Manhattan, NY 10022   2 E 55th St Unit 908W33Manhattan, NY 10022   \n",
              "3          New York, NY 10065                5 E 64th StNew York, NY 10065   \n",
              "4          Brooklyn, NY 11238                584 Park PlBrooklyn, NY 11238   \n",
              "...                       ...                                          ...   \n",
              "4794      Manhattan, NY 10075      222 E 80th St Apt 3AManhattan, NY 10075   \n",
              "4795      Rego Park, NY 11374       97-40 62 Dr Unit LgRego Park, NY 11374   \n",
              "4796       New York, NY 10011  427 W 21st St Unit GardenNew York, NY 10011   \n",
              "4797       Elmhurst, NY 11373   91-23 Corona Ave Unit 4GElmhurst, NY 11373   \n",
              "4798       Brooklyn, NY 11224    460 Neptune Ave Apt 14OBrooklyn, NY 11224   \n",
              "\n",
              "     ADMINISTRATIVE_AREA_LEVEL_2         LOCALITY      SUBLOCALITY  \\\n",
              "0                New York County         New York        Manhattan   \n",
              "1                  United States         New York  Richmond County   \n",
              "2                  United States         New York  New York County   \n",
              "3                  United States         New York  New York County   \n",
              "4                  United States         New York     Kings County   \n",
              "...                          ...              ...              ...   \n",
              "4794                    New York  New York County         New York   \n",
              "4795               United States         New York    Queens County   \n",
              "4796               United States         New York  New York County   \n",
              "4797                    New York    Queens County           Queens   \n",
              "4798                    New York     Kings County         Brooklyn   \n",
              "\n",
              "           STREET_NAME         LONG_NAME  \\\n",
              "0     East 55th Street   Regis Residence   \n",
              "1        Staten Island   Sinclair Avenue   \n",
              "2             New York  East 55th Street   \n",
              "3             New York  East 64th Street   \n",
              "4             Brooklyn        Park Place   \n",
              "...                ...               ...   \n",
              "4794         Manhattan               222   \n",
              "4795            Queens        62nd Drive   \n",
              "4796          New York  West 21st Street   \n",
              "4797          Flushing             91-23   \n",
              "4798      Coney Island               460   \n",
              "\n",
              "                                      FORMATTED_ADDRESS   LATITUDE  LONGITUDE  \n",
              "0     Regis Residence, 2 E 55th St #803, New York, N...  40.761255 -73.974483  \n",
              "1        620 Sinclair Ave, Staten Island, NY 10312, USA  40.541805 -74.196109  \n",
              "2                  2 E 55th St, New York, NY 10022, USA  40.761398 -73.974613  \n",
              "3                  5 E 64th St, New York, NY 10065, USA  40.767224 -73.969856  \n",
              "4                  584 Park Pl, Brooklyn, NY 11238, USA  40.674363 -73.958725  \n",
              "...                                                 ...        ...        ...  \n",
              "4794         222 E 80th St #3a, New York, NY 10075, USA  40.774350 -73.955879  \n",
              "4795            97-40 62nd Dr, Rego Park, NY 11374, USA  40.732538 -73.860152  \n",
              "4796             427 W 21st St, New York, NY 10011, USA  40.745882 -74.003398  \n",
              "4797     91-23 Corona Ave. #4b, Flushing, NY 11373, USA  40.742770 -73.872752  \n",
              "4798      460 Neptune Ave #14a, Brooklyn, NY 11224, USA  40.579147 -73.970949  \n",
              "\n",
              "[4799 rows x 17 columns]"
            ]
          },
          "execution_count": 1,
          "metadata": {},
          "output_type": "execute_result"
        }
      ],
      "source": [
        "import pandas as pd\n",
        "path = \"NY-House-Dataset.csv\"\n",
        "data = pd.read_csv(path, sep=',')  # если нужно, можно поменять разделитель\n",
        "\n",
        "data"
      ]
    },
    {
      "cell_type": "markdown",
      "id": "0d119028",
      "metadata": {
        "id": "0d119028"
      },
      "source": [
        "## 2. Понимаем, какая перед нами задача"
      ]
    },
    {
      "cell_type": "markdown",
      "id": "wUmFjdeK02ns",
      "metadata": {
        "id": "wUmFjdeK02ns"
      },
      "source": [
        "У меня задача регресии, т.к. цена на аппартаменты может быть любым числом -$\\infty$ до $\\infty$."
      ]
    },
    {
      "cell_type": "markdown",
      "id": "AP-dlWsJ02Yk",
      "metadata": {
        "id": "AP-dlWsJ02Yk"
      },
      "source": [
        "(взято из 2й лабораторной)\n",
        "\n",
        "### Датасет состоит из следующих переменных\n",
        "- *BROKERTITLE*: Название брокера\n",
        "- *TYPE*: Тип недвижимости\n",
        "- *PRICE*: Цена недвижимости\n",
        "- *BEDS*: Количество спален\n",
        "- *BATH*: Количество ванных комнат\n",
        "- *PROPERTYSQFT*: Площадь недвижимости в квадратных футах\n",
        "- *ADDRESS*: Адрес\n",
        "- *STATE*: Штат\n",
        "- *MAIN_ADDRESS*: Основной адрес\n",
        "- *ADMINISTRATIVE_AREA_LEVEL_2*: Административный район\n",
        "- *LOCALITY*: Населенный пункт\n",
        "- *SUBLOCALITY*: Подрайон\n",
        "- *STREET_NAME*: Название улицы\n",
        "- *LONG_NAME*: Длинное название\n",
        "- *FORMATTED_ADDRESS*: Форматированный адрес\n",
        "- *LATITUDE*: Широта\n",
        "- *LONGITUDE*: Долгота\n",
        "\n",
        "Моя целевая переменная(y) - price. Все остальные переменные - признаки(х)"
      ]
    },
    {
      "cell_type": "markdown",
      "id": "34931f43",
      "metadata": {
        "id": "34931f43"
      },
      "source": [
        "## 3. Делаем предобработку данных"
      ]
    },
    {
      "cell_type": "markdown",
      "id": "ghV0sOIN09Ki",
      "metadata": {
        "id": "ghV0sOIN09Ki"
      },
      "source": [
        "### Разделение выборки на тренировочную (train) и тестовую (test)"
      ]
    },
    {
      "cell_type": "code",
      "execution_count": null,
      "id": "67a611d0",
      "metadata": {
        "colab": {
          "base_uri": "https://localhost:8080/"
        },
        "id": "67a611d0",
        "outputId": "039a7157-52dd-4a43-91f5-b0a6c0fdf592"
      },
      "outputs": [
        {
          "name": "stdout",
          "output_type": "stream",
          "text": [
            "(3839, 16) (3839,)\n",
            "(960, 16) (960,)\n"
          ]
        }
      ],
      "source": [
        "from sklearn.model_selection import train_test_split\n",
        "import numpy as np\n",
        "\n",
        "data['PRICE'] = np.log1p(data['PRICE'])\n",
        "\n",
        "x = data.drop(columns=['PRICE'])\n",
        "y = data['PRICE']\n",
        "\n",
        "x_train, x_test, y_train, y_test = train_test_split(x,y,test_size = 0.2, random_state=17)\n",
        "\n",
        "print(x_train.shape, y_train.shape)\n",
        "print(x_test.shape, y_test.shape)"
      ]
    },
    {
      "cell_type": "markdown",
      "id": "7EpIMxTj1Bm0",
      "metadata": {
        "id": "7EpIMxTj1Bm0"
      },
      "source": [
        "### Проверка пропусков в данных (выкидываю наблюдения с прощенными значениями)"
      ]
    },
    {
      "cell_type": "code",
      "execution_count": null,
      "id": "JCWtewp91CyT",
      "metadata": {
        "colab": {
          "base_uri": "https://localhost:8080/"
        },
        "id": "JCWtewp91CyT",
        "outputId": "33c1f8be-ea87-4ad0-de59-4598c1dfdf85"
      },
      "outputs": [
        {
          "name": "stdout",
          "output_type": "stream",
          "text": [
            "BROKERTITLE                    0\n",
            "TYPE                           0\n",
            "PRICE                          0\n",
            "BEDS                           0\n",
            "BATH                           0\n",
            "PROPERTYSQFT                   0\n",
            "ADDRESS                        0\n",
            "STATE                          0\n",
            "MAIN_ADDRESS                   0\n",
            "ADMINISTRATIVE_AREA_LEVEL_2    0\n",
            "LOCALITY                       0\n",
            "SUBLOCALITY                    0\n",
            "STREET_NAME                    0\n",
            "LONG_NAME                      0\n",
            "FORMATTED_ADDRESS              0\n",
            "LATITUDE                       0\n",
            "LONGITUDE                      0\n",
            "dtype: int64\n"
          ]
        }
      ],
      "source": [
        "print(data.isnull().sum())"
      ]
    },
    {
      "cell_type": "markdown",
      "id": "eizAWnqa1HU7",
      "metadata": {
        "id": "eizAWnqa1HU7"
      },
      "source": [
        "Можно не использовать, но если были бы пропуски - применили бы"
      ]
    },
    {
      "cell_type": "code",
      "execution_count": null,
      "id": "ADUP1Zsr1KPI",
      "metadata": {
        "id": "ADUP1Zsr1KPI"
      },
      "outputs": [],
      "source": [
        "#data.dropna(how = 'any')"
      ]
    },
    {
      "cell_type": "markdown",
      "id": "ZW09Z0w21Lis",
      "metadata": {
        "id": "ZW09Z0w21Lis"
      },
      "source": [
        "### Нормировка численных переменных"
      ]
    },
    {
      "cell_type": "code",
      "execution_count": null,
      "id": "v8QWLFoK1Ncc",
      "metadata": {
        "id": "v8QWLFoK1Ncc"
      },
      "outputs": [],
      "source": [
        "from sklearn.preprocessing import StandardScaler\n",
        "\n",
        "numeral = ['BEDS', 'BATH', 'PROPERTYSQFT', 'LATITUDE', 'LONGITUDE']\n",
        "scaler = StandardScaler()\n",
        "x_train[numeral] = x_train[numeral].astype(float)\n",
        "x_test[numeral] = x_test[numeral].astype(float)\n",
        "x_train.loc[:, numeral] = scaler.fit_transform(x_train[numeral])\n",
        "x_test.loc[:, numeral] = scaler.transform(x_test[numeral])\n"
      ]
    },
    {
      "cell_type": "markdown",
      "id": "rm0XxgBJ1QUk",
      "metadata": {
        "id": "rm0XxgBJ1QUk"
      },
      "source": [
        "### Категориальные признаки"
      ]
    },
    {
      "cell_type": "code",
      "execution_count": null,
      "id": "xDpcFO3z1RG1",
      "metadata": {
        "id": "xDpcFO3z1RG1"
      },
      "outputs": [],
      "source": [
        "x_train = x_train.drop(columns=['BROKERTITLE', 'ADDRESS', 'MAIN_ADDRESS', 'ADMINISTRATIVE_AREA_LEVEL_2', 'STREET_NAME', 'LONG_NAME', 'FORMATTED_ADDRESS'])\n",
        "x_test = x_test.drop(columns=['BROKERTITLE', 'ADDRESS', 'MAIN_ADDRESS', 'ADMINISTRATIVE_AREA_LEVEL_2', 'STREET_NAME', 'LONG_NAME', 'FORMATTED_ADDRESS'])"
      ]
    },
    {
      "cell_type": "code",
      "execution_count": null,
      "id": "6NtLNLXM1eiS",
      "metadata": {
        "id": "6NtLNLXM1eiS"
      },
      "outputs": [],
      "source": [
        "from sklearn.preprocessing import OneHotEncoder\n",
        "\n",
        "categorical_cols = ['TYPE', 'STATE', 'LOCALITY', 'SUBLOCALITY']\n",
        "encoder = OneHotEncoder(sparse_output=False, handle_unknown='ignore')\n",
        "\n",
        "X_train_encoded = pd.DataFrame(\n",
        "    encoder.fit_transform(x_train[categorical_cols]),\n",
        "    index=x_train.index,\n",
        "    columns=encoder.get_feature_names_out(categorical_cols)\n",
        ")\n",
        "\n",
        "X_test_encoded = pd.DataFrame(\n",
        "    encoder.transform(x_test[categorical_cols]),\n",
        "    index=x_test.index,\n",
        "    columns=encoder.get_feature_names_out(categorical_cols)\n",
        ")\n",
        "\n",
        "x_train = x_train.drop(columns=categorical_cols).join(X_train_encoded)\n",
        "x_test = x_test.drop(columns=categorical_cols).join(X_test_encoded)"
      ]
    },
    {
      "cell_type": "markdown",
      "id": "-dzBqS-k1fnr",
      "metadata": {
        "id": "-dzBqS-k1fnr"
      },
      "source": [
        "## Данные в виде класса Dataset + DataLoader"
      ]
    },
    {
      "cell_type": "code",
      "execution_count": null,
      "id": "eR70T9uE1hoW",
      "metadata": {
        "id": "eR70T9uE1hoW"
      },
      "outputs": [],
      "source": [
        "import torch\n",
        "from torch.utils.data import Dataset, DataLoader\n",
        "import numpy as np\n",
        "\n",
        "class MyDataset(Dataset):\n",
        "    def __init__(self, X, y):\n",
        "        self.X = torch.tensor(X.values, dtype=torch.float)\n",
        "        self.y = torch.tensor(y.values, dtype=torch.float).unsqueeze(1)\n",
        "\n",
        "    def __len__(self):\n",
        "        return len(self.X)\n",
        "\n",
        "    def __getitem__(self, index):\n",
        "        return self.X[index], self.y[index]\n",
        "\n",
        "\n",
        "train_dataset = MyDataset(x_train, y_train)\n",
        "test_dataset = MyDataset(x_test, y_test)\n",
        "\n",
        "train_dataloader = DataLoader(train_dataset, batch_size=64, shuffle=True)\n",
        "test_dataloader = DataLoader(test_dataset, batch_size=64, shuffle=False)"
      ]
    },
    {
      "cell_type": "markdown",
      "id": "HQhqxuDE3I24",
      "metadata": {
        "id": "HQhqxuDE3I24"
      },
      "source": [
        "## Обучение на тренировочном множестве"
      ]
    },
    {
      "cell_type": "markdown",
      "id": "DVhCV8kc3RxH",
      "metadata": {
        "id": "DVhCV8kc3RxH"
      },
      "source": [
        "### Однослойная нейросеть с оптимизатором `SGD`"
      ]
    },
    {
      "cell_type": "code",
      "execution_count": null,
      "id": "oxIMBWzoi7wv",
      "metadata": {
        "id": "oxIMBWzoi7wv"
      },
      "outputs": [],
      "source": [
        "num_epochs = 100\n",
        "\n",
        "def write_epoch(model, num_epochs):\n",
        "  for epoch in range(num_epochs):\n",
        "      model.train()\n",
        "      for inputs, targets in train_dataloader:\n",
        "          optimizer.zero_grad()\n",
        "          outputs = model(inputs)\n",
        "          loss = criterion(outputs, targets)\n",
        "          loss.backward()\n",
        "          optimizer.step()\n",
        "      if (epoch+1) % 10 == 0:\n",
        "          print(f'Эпоха [{epoch+1}/{num_epochs}], Loss: {loss.item():.4f}')"
      ]
    },
    {
      "cell_type": "code",
      "execution_count": null,
      "id": "iY_wbcJ_3Ziu",
      "metadata": {
        "colab": {
          "base_uri": "https://localhost:8080/"
        },
        "id": "iY_wbcJ_3Ziu",
        "outputId": "9fc9644e-b17c-4ca8-bd1d-93ca1a5f016c"
      },
      "outputs": [
        {
          "name": "stdout",
          "output_type": "stream",
          "text": [
            "Эпоха [10/100], Loss: 128.4115\n",
            "Эпоха [20/100], Loss: 82.4038\n",
            "Эпоха [30/100], Loss: 61.2028\n",
            "Эпоха [40/100], Loss: 35.7314\n",
            "Эпоха [50/100], Loss: 27.5585\n",
            "Эпоха [60/100], Loss: 19.6733\n",
            "Эпоха [70/100], Loss: 12.8600\n",
            "Эпоха [80/100], Loss: 9.2190\n",
            "Эпоха [90/100], Loss: 7.7479\n",
            "Эпоха [100/100], Loss: 3.8086\n"
          ]
        }
      ],
      "source": [
        "import torch.nn as nn\n",
        "import torch.optim as optim\n",
        "\n",
        "input_size = x_train.shape[1]\n",
        "output_size = 1\n",
        "\n",
        "class SimpleNet(nn.Module):\n",
        "    def __init__(self, input_size, output_size):\n",
        "        super(SimpleNet, self).__init__()\n",
        "        self.fc = nn.Linear(input_size, output_size)\n",
        "\n",
        "    def forward(self, x):\n",
        "        return self.fc(x)\n",
        "\n",
        "model_SimpleNet = SimpleNet(input_size, output_size)\n",
        "criterion = nn.MSELoss()\n",
        "optimizer = optim.SGD(model_SimpleNet.parameters(), lr=0.0001)\n",
        "\n",
        "write_epoch(model_SimpleNet, num_epochs)"
      ]
    },
    {
      "cell_type": "markdown",
      "id": "UikCIo_s6rrq",
      "metadata": {
        "id": "UikCIo_s6rrq"
      },
      "source": [
        "## Нейросеть посложнее (с 1 скрытым слоем) с оптимизатором `Adam`"
      ]
    },
    {
      "cell_type": "code",
      "execution_count": null,
      "id": "W2hjUSFn6xKE",
      "metadata": {
        "colab": {
          "base_uri": "https://localhost:8080/"
        },
        "id": "W2hjUSFn6xKE",
        "outputId": "3e28be8d-7acd-41f7-8019-45959d1daadd"
      },
      "outputs": [
        {
          "name": "stdout",
          "output_type": "stream",
          "text": [
            "Эпоха [10/100], Loss: 137.2268\n",
            "Эпоха [20/100], Loss: 68.5378\n",
            "Эпоха [30/100], Loss: 13.6845\n",
            "Эпоха [40/100], Loss: 1.8944\n",
            "Эпоха [50/100], Loss: 0.9256\n",
            "Эпоха [60/100], Loss: 0.4097\n",
            "Эпоха [70/100], Loss: 0.4829\n",
            "Эпоха [80/100], Loss: 0.7028\n",
            "Эпоха [90/100], Loss: 0.4700\n",
            "Эпоха [100/100], Loss: 0.4906\n"
          ]
        }
      ],
      "source": [
        "class NeuralNetwork(nn.Module):\n",
        "    def __init__(self, input_size, hidden_size, output_size):\n",
        "        super(NeuralNetwork, self).__init__()\n",
        "        self.hidden = nn.Linear(input_size, hidden_size)\n",
        "        self.relu = nn.ReLU()\n",
        "        self.output = nn.Linear(hidden_size, output_size)\n",
        "\n",
        "    def forward(self, x):\n",
        "        x = self.hidden(x)\n",
        "        x = self.relu(x)\n",
        "        x = self.output(x)\n",
        "        return x\n",
        "\n",
        "model_NeuralNetwork = NeuralNetwork(input_size, 64, output_size)\n",
        "optimizer = optim.Adam(model_NeuralNetwork.parameters(), lr=0.0001)\n",
        "criterion = nn.MSELoss()\n",
        "\n",
        "write_epoch(model_NeuralNetwork, num_epochs)"
      ]
    },
    {
      "cell_type": "markdown",
      "id": "nx2pU_Bl67ko",
      "metadata": {
        "id": "nx2pU_Bl67ko"
      },
      "source": [
        "Нейросеть еще сложнее (с 3+ скрытыми слоями) с оптимизатором `Adam`"
      ]
    },
    {
      "cell_type": "code",
      "execution_count": null,
      "id": "LATiEHoF6-DL",
      "metadata": {
        "colab": {
          "base_uri": "https://localhost:8080/"
        },
        "id": "LATiEHoF6-DL",
        "outputId": "23fbb2ff-e66e-4852-8262-cd7953aaa2d0"
      },
      "outputs": [
        {
          "name": "stdout",
          "output_type": "stream",
          "text": [
            "Эпоха [10/100], Loss: 0.1934\n",
            "Эпоха [20/100], Loss: 0.1117\n",
            "Эпоха [30/100], Loss: 0.1314\n",
            "Эпоха [40/100], Loss: 0.1082\n",
            "Эпоха [50/100], Loss: 0.0875\n",
            "Эпоха [60/100], Loss: 0.1786\n",
            "Эпоха [70/100], Loss: 0.1033\n",
            "Эпоха [80/100], Loss: 0.1429\n",
            "Эпоха [90/100], Loss: 0.1669\n",
            "Эпоха [100/100], Loss: 0.0854\n"
          ]
        }
      ],
      "source": [
        "class HardNeuralNetwork(nn.Module):\n",
        "    def __init__(self, input_size, hidden_sizes, output_size):\n",
        "        super(HardNeuralNetwork, self).__init__()\n",
        "        layers = []\n",
        "        prev_size = input_size\n",
        "        for h in hidden_sizes:\n",
        "            layers.append(nn.Linear(prev_size, h))\n",
        "            layers.append(nn.ReLU())\n",
        "            prev_size = h\n",
        "        layers.append(nn.Linear(prev_size, output_size))\n",
        "        self.model = nn.Sequential(*layers)\n",
        "    def forward(self, x):\n",
        "        return self.model(x)\n",
        "\n",
        "model_HardNeuralNetwork = HardNeuralNetwork(input_size, [64,32,16], output_size)\n",
        "optimizer = optim.Adam(model_HardNeuralNetwork.parameters(), lr=0.001)\n",
        "criterion = nn.MSELoss()\n",
        "\n",
        "\n",
        "write_epoch(model_HardNeuralNetwork, num_epochs)"
      ]
    },
    {
      "cell_type": "markdown",
      "id": "AR90LaRs7Hxz",
      "metadata": {
        "id": "AR90LaRs7Hxz"
      },
      "source": [
        "### Подсчёт loss на train и test множествах, в зависимости от эпохи обучения"
      ]
    },
    {
      "cell_type": "code",
      "execution_count": null,
      "id": "eEulHPcn7Hl_",
      "metadata": {
        "id": "eEulHPcn7Hl_"
      },
      "outputs": [],
      "source": [
        "import matplotlib.pyplot as plt\n",
        "\n",
        "def train_model(model, criterion, optimizer, train_dataloader, test_dataloader, num_epochs):\n",
        "    train_losses = []\n",
        "    test_losses = []\n",
        "\n",
        "    for epoch in range(num_epochs):\n",
        "        model.train()\n",
        "        train_loss_sum = 0\n",
        "        for inputs, targets in train_dataloader:\n",
        "            optimizer.zero_grad()\n",
        "            outputs = model(inputs)\n",
        "            loss = criterion(outputs, targets)\n",
        "            loss.backward()\n",
        "            optimizer.step()\n",
        "            train_loss_sum += loss.item()*inputs.size(0)\n",
        "        train_loss = train_loss_sum / len(train_dataloader.dataset)\n",
        "        train_losses.append(train_loss)\n",
        "\n",
        "        model.eval()\n",
        "        test_loss_sum = 0\n",
        "        with torch.no_grad():\n",
        "            for inputs, targets in test_dataloader:\n",
        "                outputs = model(inputs)\n",
        "                loss = criterion(outputs, targets)\n",
        "                test_loss_sum += loss.item()*inputs.size(0)\n",
        "        test_loss = test_loss_sum / len(test_dataloader.dataset)\n",
        "        test_losses.append(test_loss)\n",
        "\n",
        "        if (epoch+1)%10==0:\n",
        "            print(f'Эпоха [{epoch+1}/{num_epochs}], Train Loss: {train_loss:.4f}, Test Loss: {test_loss:.4f}')\n",
        "\n",
        "    plt.plot(range(1, num_epochs+1), train_losses, label='Train Loss')\n",
        "    plt.plot(range(1, num_epochs+1), test_losses, label='Test Loss')\n",
        "    plt.xlabel('Iteration')\n",
        "    plt.ylabel('Loss')\n",
        "    plt.title('Training and Validation Loss Curves')\n",
        "    plt.legend()\n",
        "    plt.show()"
      ]
    },
    {
      "cell_type": "code",
      "execution_count": null,
      "id": "OoKKWijbqrtx",
      "metadata": {
        "colab": {
          "base_uri": "https://localhost:8080/",
          "height": 559
        },
        "id": "OoKKWijbqrtx",
        "outputId": "e6183fa8-7de3-4640-8928-b4f8d54966a2"
      },
      "outputs": [
        {
          "name": "stdout",
          "output_type": "stream",
          "text": [
            "Эпоха [10/50], Train Loss: 130.1776, Test Loss: 128.4968\n",
            "Эпоха [20/50], Train Loss: 87.3503, Test Loss: 86.5130\n",
            "Эпоха [30/50], Train Loss: 58.8544, Test Loss: 58.5385\n",
            "Эпоха [40/50], Train Loss: 39.8759, Test Loss: 39.8728\n",
            "Эпоха [50/50], Train Loss: 27.2215, Test Loss: 27.3983\n"
          ]
        },
        {
          "data": {
            "image/png": "[encoded data removed]",
            "text/plain": [
              "<Figure size 640x480 with 1 Axes>"
            ]
          },
          "metadata": {},
          "output_type": "display_data"
        }
      ],
      "source": [
        "model_simple = SimpleNet(input_size, output_size)\n",
        "optimizer_simple = optim.SGD(model_simple.parameters(), lr=0.0001)\n",
        "train_model(model_simple, nn.MSELoss(), optimizer_simple, train_dataloader, test_dataloader, num_epochs=50)\n"
      ]
    },
    {
      "cell_type": "code",
      "execution_count": null,
      "id": "_9JWoRkUqtiZ",
      "metadata": {
        "colab": {
          "base_uri": "https://localhost:8080/",
          "height": 559
        },
        "id": "_9JWoRkUqtiZ",
        "outputId": "94687c9a-b83b-462e-bae8-576770d280e8"
      },
      "outputs": [
        {
          "name": "stdout",
          "output_type": "stream",
          "text": [
            "Эпоха [10/50], Train Loss: 151.1933, Test Loss: 148.8277\n",
            "Эпоха [20/50], Train Loss: 75.6745, Test Loss: 72.9123\n",
            "Эпоха [30/50], Train Loss: 20.5042, Test Loss: 19.5055\n",
            "Эпоха [40/50], Train Loss: 2.8911, Test Loss: 3.2222\n",
            "Эпоха [50/50], Train Loss: 0.9051, Test Loss: 1.3560\n"
          ]
        },
        {
          "data": {
            "image/png": "[encoded data removed]",
            "text/plain": [
              "<Figure size 640x480 with 1 Axes>"
            ]
          },
          "metadata": {},
          "output_type": "display_data"
        }
      ],
      "source": [
        "model_neural = NeuralNetwork(input_size, 64, output_size)\n",
        "optimizer_neural = optim.Adam(model_neural.parameters(), lr=0.0001)\n",
        "train_model(model_neural, nn.MSELoss(), optimizer_neural, train_dataloader, test_dataloader, num_epochs=50)\n"
      ]
    },
    {
      "cell_type": "code",
      "execution_count": null,
      "id": "6RC7zh8Q7Zgb",
      "metadata": {
        "colab": {
          "base_uri": "https://localhost:8080/",
          "height": 559
        },
        "id": "6RC7zh8Q7Zgb",
        "outputId": "d409a002-f5f9-4422-e571-ba6060df62c2"
      },
      "outputs": [
        {
          "name": "stdout",
          "output_type": "stream",
          "text": [
            "Эпоха [10/50], Train Loss: 69.3226, Test Loss: 52.9231\n",
            "Эпоха [20/50], Train Loss: 0.9954, Test Loss: 1.7234\n",
            "Эпоха [30/50], Train Loss: 0.5692, Test Loss: 0.9721\n",
            "Эпоха [40/50], Train Loss: 0.4024, Test Loss: 0.6306\n",
            "Эпоха [50/50], Train Loss: 0.3228, Test Loss: 0.4706\n"
          ]
        },
        {
          "data": {
            "image/png": "[encoded data removed]",
            "text/plain": [
              "<Figure size 640x480 with 1 Axes>"
            ]
          },
          "metadata": {},
          "output_type": "display_data"
        }
      ],
      "source": [
        "model_plot = HardNeuralNetwork(input_size, [64,32,16], output_size)\n",
        "optimizer_plot = optim.Adam(model_plot.parameters(), lr=0.0001)\n",
        "train_model(model_plot, nn.MSELoss(), optimizer_plot, train_dataloader, test_dataloader, num_epochs=50)"
      ]
    },
    {
      "cell_type": "markdown",
      "id": "AjV268Rq8hH7",
      "metadata": {
        "id": "AjV268Rq8hH7"
      },
      "source": [
        "## Подсчёт метрик"
      ]
    },
    {
      "cell_type": "code",
      "execution_count": null,
      "id": "3ZBvsH348jG_",
      "metadata": {
        "colab": {
          "base_uri": "https://localhost:8080/"
        },
        "id": "3ZBvsH348jG_",
        "outputId": "bd744621-042b-460c-9fe1-ce1452cf1689"
      },
      "outputs": [
        {
          "name": "stdout",
          "output_type": "stream",
          "text": [
            "SimpleNet\n",
            "MAE (train): 1.9309, MAE (test): 1.9969\n",
            "\n",
            "NeuralNetwork\n",
            "MAE (train): 0.3685, MAE (test): 0.3982\n",
            "\n",
            "HardNeuralNetwork\n",
            "MAE (train): 0.2207, MAE (test): 0.3439\n"
          ]
        }
      ],
      "source": [
        "def calculate_mae(model, data_loader):\n",
        "    model.eval()\n",
        "    mae = 0.0\n",
        "    with torch.no_grad():\n",
        "        for inputs, targets in data_loader:\n",
        "            outputs = model(inputs)\n",
        "            mae += torch.abs(outputs - targets).sum().item()\n",
        "    mae /= len(data_loader.dataset)\n",
        "    return mae\n",
        "\n",
        "train_mae_SimpleNet = calculate_mae(model_SimpleNet, train_dataloader)\n",
        "test_mae_SimpleNet = calculate_mae(model_SimpleNet, test_dataloader)\n",
        "\n",
        "print('SimpleNet')\n",
        "print(f\"MAE (train): {train_mae_SimpleNet:.4f}, MAE (test): {test_mae_SimpleNet:.4f}\")\n",
        "\n",
        "train_mae_NeuralNetwork = calculate_mae(model_NeuralNetwork, train_dataloader)\n",
        "test_mae_NeuralNetwork = calculate_mae(model_NeuralNetwork, test_dataloader)\n",
        "\n",
        "\n",
        "print('\\nNeuralNetwork')\n",
        "print(f\"MAE (train): {train_mae_NeuralNetwork:.4f}, MAE (test): {test_mae_NeuralNetwork:.4f}\")\n",
        "\n",
        "train_mae_HardNeuralNetwork = calculate_mae(model_HardNeuralNetwork, train_dataloader)\n",
        "test_mae_HardNeuralNetwork = calculate_mae(model_HardNeuralNetwork, test_dataloader)\n",
        "\n",
        "print('\\nHardNeuralNetwork')\n",
        "print(f\"MAE (train): {train_mae_HardNeuralNetwork:.4f}, MAE (test): {test_mae_HardNeuralNetwork:.4f}\")"
      ]
    },
    {
      "cell_type": "markdown",
      "id": "o-qWM7KohfVM",
      "metadata": {
        "id": "o-qWM7KohfVM"
      },
      "source": [
        "Сравните метрики относительно train/test, так и относительно разных моделей. Ответьте на следующие вопросы:\n",
        "- Какая модель справилась лучше с поставленной задачей? Лучше всего с задачей справилась HardNeuralNetwork, т.к у нее наименьшие показатели MAE среди остальных моделей\n",
        "\n",
        "- Имеет ли место переобучение? Все модели показывают хорошие результаты на train и test, не видно явного переобучения\n",
        "- Имеет ли место недообучение? Возможно у SimpleNet, т.к. у него простая модель и он не смог нормально обучиться\n",
        "- Как можно улучшить метрики моделей? Увеличить сложность модели, добавив дополнительные слои, уменьшить learnin rate и посмотреть результат\n"
      ]
    }
  ],
  "metadata": {
    "colab": {
      "provenance": []
    },
    "kernelspec": {
      "display_name": "nn-ml-bachelor-2024-venv",
      "language": "python",
      "name": "nn-ml-bachelor-2024-venv"
    },
    "language_info": {
      "codemirror_mode": {
        "name": "ipython",
        "version": 3
      },
      "file_extension": ".py",
      "mimetype": "text/x-python",
      "name": "python",
      "nbconvert_exporter": "python",
      "pygments_lexer": "ipython3",
      "version": "3.9.6"
    }
  },
  "nbformat": 4,
  "nbformat_minor": 5
}
