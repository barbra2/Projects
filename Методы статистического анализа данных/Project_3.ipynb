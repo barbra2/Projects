{
 "cells": [
  {
   "cell_type": "markdown",
   "metadata": {
    "vscode": {
     "languageId": "sql"
    }
   },
   "source": [
    "1. По критерию Пирсона при уровне значимости α = 0,05 проверить\n",
    "нулевую гипотезу о нормальном распределении:\n",
    "    - случайной величины «возраст». Для этого разбить массив исходных\n",
    "данных на 7 групп с равными интервалами (концы интервала –\n",
    "целые).\n",
    "    - случайной величины «средний возраст», используя выборку\n",
    "средних, полученную в лабораторной работе №2."
   ]
  },
  {
   "cell_type": "code",
   "execution_count": 1,
   "metadata": {},
   "outputs": [],
   "source": [
    "f = open(\"moscow_2021.txt\", \"r\")\n",
    "data = []\n",
    "for num in f:\n",
    "    num = num.strip()\n",
    "    if num:\n",
    "        data.append(int(num))\n"
   ]
  },
  {
   "cell_type": "code",
   "execution_count": 2,
   "metadata": {},
   "outputs": [
    {
     "name": "stdout",
     "output_type": "stream",
     "text": [
      "[14, 23, 32, 41, 50, 59, 68, 77]\n"
     ]
    }
   ],
   "source": [
    "import math\n",
    "import scipy.stats as stat\n",
    "\n",
    "interval_count = 7\n",
    "min_age = min(data)\n",
    "max_age = max(data)\n",
    "\n",
    "# нахождение границ интервалов\n",
    "interaval_range = max_age - min_age \n",
    "interval_length = math.ceil(interaval_range / interval_count)\n",
    "\n",
    "intervals = []\n",
    "for i in range(interval_count + 1):\n",
    "    interval_boundary = min_age + i * interval_length\n",
    "    intervals.append(math.ceil(interval_boundary))\n",
    "print(intervals)\n"
   ]
  },
  {
   "cell_type": "code",
   "execution_count": 3,
   "metadata": {},
   "outputs": [
    {
     "name": "stdout",
     "output_type": "stream",
     "text": [
      "Среднее: 35.37300681614903\n",
      "Стандартное отклонение: 12.038146371631095\n",
      "Хи-квадрат: 2903.5525084801898\n",
      "p-значение: 0.0\n",
      "Степени свободы: 6\n",
      "Отвергаем нулевую гипотезу\n"
     ]
    }
   ],
   "source": [
    "import numpy as np\n",
    "from scipy.stats import chisquare\n",
    "\n",
    "def test_normal_distribution(data):\n",
    "    # Ваши данные о возрасте\n",
    "    ages = np.array(data)\n",
    "    \n",
    "\n",
    "    # Разбить данные на 7 групп с равными интервалами\n",
    "    bins = np.linspace(min(ages), max(ages), 8)\n",
    "    hist, bin_edges = np.histogram(ages, bins=bins)\n",
    "\n",
    "    # Рассчитать теоретические частоты для нормального распределения\n",
    "    mu = np.mean(ages)\n",
    "    sigma = np.std(ages)\n",
    "    expected_freq = []\n",
    "    for i in range(len(bin_edges)-1):\n",
    "        start = bin_edges[i]\n",
    "        end = bin_edges[i+1]\n",
    "        prob = (1 / (sigma * np.sqrt(2 * np.pi))) * np.exp(-((start + end) / 2 - mu)**2 / (2 * sigma**2)) * (end - start)\n",
    "        expected_freq.append(prob * len(ages))\n",
    "    expected_freq = np.array(expected_freq)\n",
    "\n",
    "    # Масштабируем ожидаемые частоты, чтобы их сумма была равна сумме наблюдаемых частот\n",
    "    expected_freq = expected_freq * np.sum(hist) / np.sum(expected_freq)\n",
    "\n",
    "    # Проверка критерием Пирсона\n",
    "    chi2_stat, p_value = chisquare(hist, expected_freq)\n",
    "    df = len(hist) - 1  # степени свободы\n",
    "    alpha = 0.05\n",
    "\n",
    "    print(\"Среднее:\", mu)\n",
    "    print(\"Стандартное отклонение:\", sigma)\n",
    "\n",
    "    print(\"Хи-квадрат:\", chi2_stat)\n",
    "    print(\"p-значение:\", p_value)\n",
    "    print(\"Степени свободы:\", df)\n",
    "\n",
    "    if p_value < alpha:\n",
    "        print(\"Отвергаем нулевую гипотезу\")\n",
    "    else:\n",
    "        print(\"Не отвергаем нулевую гипотезу\")\n",
    "\n",
    "# Call the function with your data\n",
    "test_normal_distribution(data)\n"
   ]
  },
  {
   "cell_type": "markdown",
   "metadata": {},
   "source": [
    "Получаем выборку из прошлого проекта\n"
   ]
  },
  {
   "cell_type": "code",
   "execution_count": 4,
   "metadata": {},
   "outputs": [
    {
     "name": "stdout",
     "output_type": "stream",
     "text": [
      "[34.306451612903224, 34.306451612903224, 33.403225806451616, 36.46774193548387, 35.32258064516129, 36.45161290322581, 34.483870967741936, 36.91935483870968, 36.03225806451613, 38.53225806451613, 36.67741935483871, 39.16129032258065, 34.82258064516129, 33.87096774193548, 37.064516129032256, 36.225806451612904, 31.806451612903224, 35.88709677419355, 34.38709677419355, 39.38709677419355, 30.887096774193548, 35.854838709677416, 35.29032258064516, 33.903225806451616, 32.225806451612904, 36.53225806451613, 36.95161290322581, 35.79032258064516, 35.435483870967744, 35.596774193548384, 33.74193548387097, 36.91935483870968, 35.08064516129032, 35.32258064516129, 36.03225806451613, 35.33870967741935]\n",
      "Среднее: 35.45609318996415\n",
      "Стандартное отклонение: 1.796638778861766\n",
      "Хи-квадрат: 9.442151839189734\n",
      "p-значение: 0.15019596392594958\n",
      "Степени свободы: 6\n",
      "Не отвергаем нулевую гипотезу\n"
     ]
    }
   ],
   "source": [
    "from collections import Counter\n",
    "import math\n",
    "import random\n",
    "\n",
    "def average(data):\n",
    "    average_sum = 0\n",
    "    for num in data:\n",
    "        average_sum += num\n",
    "    average_num = average_sum/len(data)\n",
    "    return average_num\n",
    "\n",
    "def variance(data):\n",
    "    variance_sum = 0\n",
    "    average_of_data = average(data)\n",
    "    num_count = Counter(data)\n",
    "    for num in data:\n",
    "        \n",
    "        variance_sum += ((num - average_of_data)**2)\n",
    "    return ((variance_sum)/len(data))\n",
    "\n",
    "#2Φ(𝑡) = 0,95 ⇒ Φ(𝑡) = 0,475\n",
    "#Значению 0,475 в таблице функции Лапласа соответствует значение\n",
    "#аргумента 𝑡 = 1,96\n",
    "num_of_samples = 36\n",
    "year = 3\n",
    "student_criteria = 1.96\n",
    "n = round((student_criteria * student_criteria * variance(data))/(year*year))\n",
    "average_values = []\n",
    "samples = []\n",
    "\n",
    "for i in range(0,num_of_samples):\n",
    "    temp_data = []\n",
    "    for j in range(0,n):\n",
    "        temp_data.append(data[random.randint(0,len(data)-1)])\n",
    "    average_values.append(average(temp_data))\n",
    "    samples.append(temp_data)\n",
    "    temp_data = []\n",
    "\n",
    "print(average_values)\n",
    "test_normal_distribution(average_values)"
   ]
  },
  {
   "cell_type": "markdown",
   "metadata": {},
   "source": [
    "### Проверка статистических гипотез"
   ]
  },
  {
   "cell_type": "markdown",
   "metadata": {},
   "source": [
    "Проверить нулевую гипотезу о равенстве двух дисперсий генеральных совокупностей при уровне значимость 0.05"
   ]
  },
  {
   "cell_type": "code",
   "execution_count": 6,
   "metadata": {},
   "outputs": [
    {
     "name": "stdout",
     "output_type": "stream",
     "text": [
      "1.1306732839948843\n"
     ]
    }
   ],
   "source": [
    "import scipy.stats as stats\n",
    "s_1 = variance(samples[0])\n",
    "s_2 = variance(samples[1])\n",
    "\n",
    "\n",
    "if s_1 > s_2:\n",
    "    f = s_1/s_2\n",
    "else:\n",
    "    f = s_2/s_1\n",
    "\n",
    "alpha = 0.05\n",
    "\n",
    "df1 = len(samples[0]) - 1\n",
    "df2 = len(samples[1]) - 1\n",
    "\n",
    "\n",
    "print(f)"
   ]
  },
  {
   "cell_type": "markdown",
   "metadata": {},
   "source": [
    "$𝐻1 :𝐷1 > 𝐷2$"
   ]
  },
  {
   "cell_type": "code",
   "execution_count": 7,
   "metadata": {},
   "outputs": [
    {
     "name": "stdout",
     "output_type": "stream",
     "text": [
      "Значение F теоритическое = 1.5288331472305499\n",
      "Гипотеза принимается\n"
     ]
    }
   ],
   "source": [
    "f_teor = stats.f.ppf(1 - alpha, df1, df2)\n",
    "\n",
    "print(f\"Значение F теоритическое = {f_teor}\")\n",
    "if f < f_teor:\n",
    "    print(\"Гипотеза принимается\")\n",
    "else:\n",
    "    print(\"Гипотеза отвергается\")\n"
   ]
  },
  {
   "cell_type": "markdown",
   "metadata": {},
   "source": [
    "$𝐻1:𝐷1 ≠ 𝐷2$"
   ]
  },
  {
   "cell_type": "code",
   "execution_count": 8,
   "metadata": {},
   "outputs": [
    {
     "name": "stdout",
     "output_type": "stream",
     "text": [
      "Значение F теоритическое = 1.6596651974088976\n",
      "Гипотеза принимается\n"
     ]
    }
   ],
   "source": [
    "f_teor = stats.f.ppf(1 - alpha/2, df1, df2)\n",
    "print(f\"Значение F теоритическое = {f_teor}\")\n",
    "if f < f_teor:\n",
    "    print(\"Гипотеза принимается\")\n",
    "else:\n",
    "    print(\"Гипотеза отвергается\")"
   ]
  }
 ],
 "metadata": {
  "kernelspec": {
   "display_name": "Python 3",
   "language": "python",
   "name": "python3"
  },
  "language_info": {
   "codemirror_mode": {
    "name": "ipython",
    "version": 3
   },
   "file_extension": ".py",
   "mimetype": "text/x-python",
   "name": "python",
   "nbconvert_exporter": "python",
   "pygments_lexer": "ipython3",
   "version": "3.13.0"
  }
 },
 "nbformat": 4,
 "nbformat_minor": 2
}
